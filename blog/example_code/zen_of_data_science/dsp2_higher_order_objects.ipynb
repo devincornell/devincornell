{
 "cells": [
  {
   "cell_type": "code",
   "execution_count": 2,
   "id": "b22caa27-6b06-43e2-8fd7-c3a7deb6216a",
   "metadata": {},
   "outputs": [
    {
     "data": {
      "text/plain": [
       "[{'sepal_length': 5.1,\n",
       "  'sepal_width': 3.5,\n",
       "  'petal_length': 1.4,\n",
       "  'petal_width': 0.2,\n",
       "  'species': 'setosa'},\n",
       " {'sepal_length': 4.9,\n",
       "  'sepal_width': 3.0,\n",
       "  'petal_length': 1.4,\n",
       "  'petal_width': 0.2,\n",
       "  'species': 'setosa'}]"
      ]
     },
     "execution_count": 2,
     "metadata": {},
     "output_type": "execute_result"
    }
   ],
   "source": [
    "import seaborn\n",
    "import pandas as pd\n",
    "import typing\n",
    "\n",
    "iris_df_original = seaborn.load_dataset(\"iris\")\n",
    "iris_data = iris_df_original.to_dict(orient='records')\n",
    "iris_data[:2]"
   ]
  },
  {
   "cell_type": "code",
   "execution_count": 4,
   "id": "bea8ec68-264d-45d6-80a9-447a0a49a6fd",
   "metadata": {},
   "outputs": [
    {
     "data": {
      "text/plain": [
       "{'sepal_length': 5.1,\n",
       " 'sepal_width': 3.5,\n",
       " 'petal_length': 1.4,\n",
       " 'petal_width': 0.2,\n",
       " 'species': 'setosa'}"
      ]
     },
     "execution_count": 4,
     "metadata": {},
     "output_type": "execute_result"
    }
   ],
   "source": [
    "import math\n",
    "import statistics\n",
    "\n",
    "@dataclasses.dataclass\n",
    "class IrisEntry:\n",
    "    sepal_length: float\n",
    "    sepal_width: float\n",
    "    petal_length: float\n",
    "    petal_width: float\n",
    "    species: str\n",
    "    \n",
    "    @classmethod\n",
    "    def from_dict(cls, entry: typing.Dict[str, float]):\n",
    "        return cls(\n",
    "            sepal_length = entry['sepal_length'],\n",
    "            sepal_width = entry['sepal_width'],\n",
    "            petal_length = entry['petal_length'],\n",
    "            petal_width = entry['petal_width'],\n",
    "            species = entry['species'],\n",
    "        )\n",
    "    def dist(self, other):\n",
    "        return math.sqrt(\n",
    "            other.sepal_length * other.sepal_length\n",
    "            + other.sepal_width * other.sepal_width\n",
    "            + other.petal_length * other.petal_length\n",
    "            + petal_width.sepal_length * other.petal_width\n",
    "        )\n",
    "    \n",
    "class Irises(typing.List[IrisEntry]):\n",
    "    \n",
    "    @classmethod\n",
    "    def from_dicts(cls, iris_data: typing.List[typing.Dict[str,float]]):\n",
    "        return cls([IrisEntry.from_dict(ie) for ie in iris_data])\n",
    "    \n",
    "@dataclasses.dataclass\n",
    "class IrisNode:\n",
    "    \n",
    "    @classmethod\n",
    "    def from_irises(cls, irises: Irises):\n",
    "        center_ind = argmin([statistics.median(ir.dist(o) for o in irises) for ir in irises])\n",
    "        irises[center_ind]\n",
    "        \n",
    "                \n",
    "\n",
    "irises = Irises(iris_data)\n",
    "irises[0]"
   ]
  }
 ],
 "metadata": {
  "kernelspec": {
   "display_name": "Python 3 (ipykernel)",
   "language": "python",
   "name": "python3"
  },
  "language_info": {
   "codemirror_mode": {
    "name": "ipython",
    "version": 3
   },
   "file_extension": ".py",
   "mimetype": "text/x-python",
   "name": "python",
   "nbconvert_exporter": "python",
   "pygments_lexer": "ipython3",
   "version": "3.9.13"
  }
 },
 "nbformat": 4,
 "nbformat_minor": 5
}
