{
 "cells": [
  {
   "cell_type": "code",
   "execution_count": 32,
   "metadata": {},
   "outputs": [],
   "source": [
    "from __future__ import annotations\n",
    "import pandas as pd\n",
    "import dataclasses\n",
    "import typing"
   ]
  },
  {
   "cell_type": "code",
   "execution_count": 33,
   "metadata": {},
   "outputs": [
    {
     "name": "stdout",
     "output_type": "stream",
     "text": [
      "   sepal_length  sepal_width  petal_length  petal_width species\n",
      "0           5.1          3.5           1.4          0.2  setosa\n",
      "1           4.9          3.0           1.4          0.2  setosa\n",
      "2           4.7          3.2           1.3          0.2  setosa\n"
     ]
    }
   ],
   "source": [
    "import seaborn\n",
    "import pandas as pd\n",
    "import numpy as np\n",
    "\n",
    "iris_df = seaborn.load_dataset(\"iris\")\n",
    "print(iris_df.head(3))"
   ]
  },
  {
   "cell_type": "code",
   "execution_count": 34,
   "metadata": {},
   "outputs": [
    {
     "name": "stdout",
     "output_type": "stream",
     "text": [
      "species\n",
      "setosa        50\n",
      "versicolor    50\n",
      "virginica     50\n",
      "Name: count, dtype: int64\n",
      "            sepal_length  sepal_width  petal_length  petal_width\n",
      "species                                                         \n",
      "setosa             5.006        3.428         1.462        0.246\n",
      "versicolor         5.936        2.770         4.260        1.326\n",
      "virginica          6.588        2.974         5.552        2.026\n"
     ]
    },
    {
     "data": {
      "text/plain": [
       "SpeciesMean0(num_species=3)"
      ]
     },
     "execution_count": 34,
     "metadata": {},
     "output_type": "execute_result"
    }
   ],
   "source": [
    "@dataclasses.dataclass\n",
    "class IrisData0:\n",
    "    __df: pd.DataFrame\n",
    "\n",
    "    def __repr__(self) -> str:\n",
    "        return f'{self.__class__.__name__}(size={self.__df.shape[0]})'\n",
    "    \n",
    "    @property\n",
    "    def sepal_length(self) -> pd.Series:\n",
    "        return self.__df['sepal_length']\n",
    "\n",
    "    @property\n",
    "    def species(self) -> pd.Series:\n",
    "        return self.__df['species']\n",
    "    \n",
    "    def species_mean_dataframe(self) -> pd.DataFrame:\n",
    "        return self.__df.groupby('species').mean()\n",
    "\n",
    "    def species_mean(self) -> SpeciesMean0:\n",
    "        return SpeciesMean0.from_iris_data(self)\n",
    "\n",
    "@dataclasses.dataclass\n",
    "class SpeciesMean0:\n",
    "    __species_av: pd.DataFrame\n",
    "\n",
    "    def __repr__(self) -> str:\n",
    "        return f'{self.__class__.__name__}(num_species={self.__species_av.shape[0]})'\\\n",
    "\n",
    "    def __getitem__(self, species_name: str) -> pd.Series:\n",
    "        return self.__species_av.loc[species_name]\n",
    "    \n",
    "    @property\n",
    "    def all_species(self) -> typing.List[str]:\n",
    "        return list(self.__species_av.index)\n",
    "\n",
    "    @classmethod\n",
    "    def from_iris_data(cls, iris_data: IrisData0) -> typing.Self:\n",
    "        return cls(iris_data.species_mean_dataframe())\n",
    "\n",
    "idata = IrisData0(iris_df)\n",
    "print(idata.species.value_counts())\n",
    "print(idata.species_mean_dataframe())\n",
    "#print(idata.species_mean().all_species)\n",
    "SpeciesMean0.from_iris_data(idata)\n",
    "idata.species_mean()"
   ]
  },
  {
   "cell_type": "code",
   "execution_count": 35,
   "metadata": {},
   "outputs": [
    {
     "data": {
      "text/plain": [
       "IrisData1(size=150)"
      ]
     },
     "execution_count": 35,
     "metadata": {},
     "output_type": "execute_result"
    }
   ],
   "source": [
    "class IrisColNames:\n",
    "    sepal_length = 'sepal_length'\n",
    "    sepal_width = 'sepal_width'\n",
    "    petal_length = 'petal_length'\n",
    "    petal_width = 'petal_width'\n",
    "    species = 'species'\n",
    "\n",
    "    @classmethod\n",
    "    def all(cls) -> typing.List[str]:\n",
    "        return [cls.sepal_length, cls.sepal_width, cls.petal_length, cls.petal_width, cls.species]\n",
    "\n",
    "@dataclasses.dataclass\n",
    "class IrisData1:\n",
    "    __df: pd.DataFrame\n",
    "    \n",
    "    @classmethod\n",
    "    def from_dataframe(cls, df: pd.DataFrame) -> typing.Self:\n",
    "        return cls(\n",
    "            df[IrisColNames.all()]\n",
    "        )\n",
    "\n",
    "    def __repr__(self) -> str:\n",
    "        return f'{self.__class__.__name__}(size={self.__df.shape[0]})'\n",
    "\n",
    "    @property\n",
    "    def sepal_length(self) -> pd.Series:\n",
    "        return self.__df[IrisColNames.sepal_length]\n",
    "    \n",
    "    @property\n",
    "    def species(self) -> pd.Series:\n",
    "        return self.__df[IrisColNames.species]\n",
    "    \n",
    "    def filter_by_species(self, species: str) -> typing.Self:\n",
    "        return self.__class__(self.__df.query(f'{IrisColNames.species} == \"{species}\"'))\n",
    "\n",
    "idata = IrisData1.from_dataframe(iris_df)\n",
    "idata"
   ]
  }
 ],
 "metadata": {
  "kernelspec": {
   "display_name": "Python 3 (ipykernel)",
   "language": "python",
   "name": "python3"
  },
  "language_info": {
   "codemirror_mode": {
    "name": "ipython",
    "version": 3
   },
   "file_extension": ".py",
   "mimetype": "text/x-python",
   "name": "python",
   "nbconvert_exporter": "python",
   "pygments_lexer": "ipython3",
   "version": "3.11.5"
  }
 },
 "nbformat": 4,
 "nbformat_minor": 2
}
