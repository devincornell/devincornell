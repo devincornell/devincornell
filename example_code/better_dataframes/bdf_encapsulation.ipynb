{
 "cells": [
  {
   "cell_type": "code",
   "execution_count": 13,
   "metadata": {},
   "outputs": [],
   "source": [
    "from __future__ import annotations\n",
    "import pandas as pd\n",
    "import dataclasses\n",
    "import typing"
   ]
  },
  {
   "cell_type": "code",
   "execution_count": 14,
   "metadata": {},
   "outputs": [
    {
     "name": "stdout",
     "output_type": "stream",
     "text": [
      "   sepal_length  sepal_width  petal_length  petal_width species\n",
      "0           5.1          3.5           1.4          0.2  setosa\n",
      "1           4.9          3.0           1.4          0.2  setosa\n",
      "2           4.7          3.2           1.3          0.2  setosa\n"
     ]
    }
   ],
   "source": [
    "import seaborn\n",
    "import pandas as pd\n",
    "import numpy as np\n",
    "\n",
    "iris_df = seaborn.load_dataset(\"iris\")\n",
    "print(iris_df.head(3))"
   ]
  },
  {
   "cell_type": "code",
   "execution_count": 18,
   "metadata": {},
   "outputs": [
    {
     "name": "stdout",
     "output_type": "stream",
     "text": [
      "species\n",
      "setosa        50\n",
      "versicolor    50\n",
      "virginica     50\n",
      "Name: count, dtype: int64\n",
      "            sepal_length  sepal_width  petal_length  petal_width\n",
      "species                                                         \n",
      "setosa             5.006        3.428         1.462        0.246\n",
      "versicolor         5.936        2.770         4.260        1.326\n",
      "virginica          6.588        2.974         5.552        2.026\n"
     ]
    },
    {
     "data": {
      "text/plain": [
       "SpeciesMean0(num_species=3)"
      ]
     },
     "execution_count": 18,
     "metadata": {},
     "output_type": "execute_result"
    }
   ],
   "source": [
    "@dataclasses.dataclass\n",
    "class IrisData0:\n",
    "    __df: pd.DataFrame\n",
    "\n",
    "    def __repr__(self) -> str:\n",
    "        return f'{self.__class__.__name__}(size={self.__df.shape[0]})'\n",
    "    \n",
    "    @property\n",
    "    def sepal_length(self) -> pd.Series:\n",
    "        return self.__df['sepal_length']\n",
    "\n",
    "    @property\n",
    "    def species(self) -> pd.Series:\n",
    "        return self.__df['species']\n",
    "    \n",
    "    def species_mean_dataframe(self) -> pd.DataFrame:\n",
    "        return self.__df.groupby('species').mean()\n",
    "\n",
    "    def species_mean(self) -> SpeciesMean0:\n",
    "        return SpeciesMean0.from_iris_data(self)\n",
    "\n",
    "@dataclasses.dataclass\n",
    "class SpeciesMean0:\n",
    "    __species_av: pd.DataFrame\n",
    "\n",
    "    def __repr__(self) -> str:\n",
    "        return f'{self.__class__.__name__}(num_species={self.__species_av.shape[0]})'\\\n",
    "\n",
    "    def __getitem__(self, species_name: str) -> pd.Series:\n",
    "        return self.__species_av.loc[species_name]\n",
    "    \n",
    "    @property\n",
    "    def all_species(self) -> typing.List[str]:\n",
    "        return list(self.__species_av.index)\n",
    "\n",
    "    @classmethod\n",
    "    def from_iris_data(cls, iris_data: IrisData0) -> typing.Self:\n",
    "        return cls(iris_data.species_mean_dataframe())\n",
    "\n",
    "idata = IrisData0(iris_df)\n",
    "print(idata.species.value_counts())\n",
    "print(idata.species_mean_dataframe())\n",
    "#print(idata.species_mean().all_species)\n",
    "SpeciesMean0.from_iris_data(idata)\n",
    "idata.species_mean()"
   ]
  },
  {
   "cell_type": "code",
   "execution_count": 16,
   "metadata": {},
   "outputs": [
    {
     "ename": "TypeError",
     "evalue": "IrisData1.__init__() got an unexpected keyword argument 'df'",
     "output_type": "error",
     "traceback": [
      "\u001b[0;31m---------------------------------------------------------------------------\u001b[0m",
      "\u001b[0;31mTypeError\u001b[0m                                 Traceback (most recent call last)",
      "Cell \u001b[0;32mIn[16], line 47\u001b[0m\n\u001b[1;32m     44\u001b[0m     \u001b[38;5;28;01mdef\u001b[39;00m \u001b[38;5;21mfilter_by_species\u001b[39m(\u001b[38;5;28mself\u001b[39m, species: \u001b[38;5;28mstr\u001b[39m) \u001b[38;5;241m-\u001b[39m\u001b[38;5;241m>\u001b[39m typing\u001b[38;5;241m.\u001b[39mSelf:\n\u001b[1;32m     45\u001b[0m         \u001b[38;5;28;01mreturn\u001b[39;00m \u001b[38;5;28mself\u001b[39m\u001b[38;5;241m.\u001b[39m\u001b[38;5;18m__class__\u001b[39m(\u001b[38;5;28mself\u001b[39m\u001b[38;5;241m.\u001b[39m__df\u001b[38;5;241m.\u001b[39mquery(\u001b[38;5;124mf\u001b[39m\u001b[38;5;124m'\u001b[39m\u001b[38;5;124mspecies == \u001b[39m\u001b[38;5;124m\"\u001b[39m\u001b[38;5;132;01m{\u001b[39;00mspecies\u001b[38;5;132;01m}\u001b[39;00m\u001b[38;5;124m\"\u001b[39m\u001b[38;5;124m'\u001b[39m))\n\u001b[0;32m---> 47\u001b[0m id1 \u001b[38;5;241m=\u001b[39m IrisData1\u001b[38;5;241m.\u001b[39mfrom_dataframe(iris_df)\n\u001b[1;32m     48\u001b[0m id1\n",
      "Cell \u001b[0;32mIn[16], line 18\u001b[0m, in \u001b[0;36mIrisData1.from_dataframe\u001b[0;34m(cls, df)\u001b[0m\n\u001b[1;32m     16\u001b[0m \u001b[38;5;129m@classmethod\u001b[39m\n\u001b[1;32m     17\u001b[0m \u001b[38;5;28;01mdef\u001b[39;00m \u001b[38;5;21mfrom_dataframe\u001b[39m(\u001b[38;5;28mcls\u001b[39m, df: pd\u001b[38;5;241m.\u001b[39mDataFrame) \u001b[38;5;241m-\u001b[39m\u001b[38;5;241m>\u001b[39m typing\u001b[38;5;241m.\u001b[39mSelf:\n\u001b[0;32m---> 18\u001b[0m     \u001b[38;5;28;01mreturn\u001b[39;00m \u001b[38;5;28mcls\u001b[39m(\n\u001b[1;32m     19\u001b[0m         df \u001b[38;5;241m=\u001b[39m df[ColNames\u001b[38;5;241m.\u001b[39mall()]\n\u001b[1;32m     20\u001b[0m     )\n",
      "\u001b[0;31mTypeError\u001b[0m: IrisData1.__init__() got an unexpected keyword argument 'df'"
     ]
    }
   ],
   "source": [
    "class ColNames:\n",
    "    sepal_length = 'sepal_length'\n",
    "    sepal_width = 'sepal_width'\n",
    "    petal_length = 'petal_length'\n",
    "    petal_width = 'petal_width'\n",
    "    species = 'species'\n",
    "\n",
    "    @classmethod\n",
    "    def all(cls) -> typing.List[str]:\n",
    "        return [cls.sepal_length, cls.sepal_width, cls.petal_length, cls.petal_width, cls.species]\n",
    "\n",
    "@dataclasses.dataclass\n",
    "class IrisData1:\n",
    "    __df: pd.DataFrame\n",
    "    \n",
    "    @classmethod\n",
    "    def from_dataframe(cls, df: pd.DataFrame) -> typing.Self:\n",
    "        return cls(\n",
    "            df = df[ColNames.all()]\n",
    "        )\n",
    "    \n",
    "    def __repr__(self) -> str:\n",
    "        return f'{self.__class__.__name__}(size={self.__df.shape[0]})'\n",
    "    \n",
    "    def head(self, *args) -> pd.DataFrame:\n",
    "        return self.__df.head(*args)\n",
    "    \n",
    "    @property\n",
    "    def sepal_length(self) -> pd.Series:\n",
    "        return self.__df['sepal_length']\n",
    "\n",
    "    @property\n",
    "    def species(self) -> pd.Series:\n",
    "        return self.__df['species']\n",
    "\n",
    "    @property\n",
    "    def sepal_length(self) -> pd.Series:\n",
    "        return self.__df[ColNames.sepal_length]\n",
    "    \n",
    "    @property\n",
    "    def species(self) -> pd.Series:\n",
    "        return self.__df[ColNames.species]\n",
    "    \n",
    "    def filter_by_species(self, species: str) -> typing.Self:\n",
    "        return self.__class__(self.__df.query(f'species == \"{species}\"'))\n",
    "\n",
    "id1 = IrisData1.from_dataframe(iris_df)\n",
    "id1"
   ]
  },
  {
   "cell_type": "code",
   "execution_count": null,
   "metadata": {},
   "outputs": [
    {
     "data": {
      "text/plain": [
       "IrisData1(size=150)"
      ]
     },
     "execution_count": 19,
     "metadata": {},
     "output_type": "execute_result"
    }
   ],
   "source": [
    "IrisData1(iris_df)"
   ]
  },
  {
   "cell_type": "code",
   "execution_count": null,
   "metadata": {},
   "outputs": [
    {
     "data": {
      "text/plain": [
       "IrisData1(size=50)"
      ]
     },
     "execution_count": 20,
     "metadata": {},
     "output_type": "execute_result"
    }
   ],
   "source": [
    "id1.filter_by_species('setosa')"
   ]
  },
  {
   "cell_type": "code",
   "execution_count": null,
   "metadata": {},
   "outputs": [
    {
     "ename": "SyntaxError",
     "evalue": "invalid syntax (1630335577.py, line 50)",
     "output_type": "error",
     "traceback": [
      "\u001b[0;36m  Cell \u001b[0;32mIn[21], line 50\u001b[0;36m\u001b[0m\n\u001b[0;31m    summaries =\u001b[0m\n\u001b[0m                ^\u001b[0m\n\u001b[0;31mSyntaxError\u001b[0m\u001b[0;31m:\u001b[0m invalid syntax\n"
     ]
    }
   ],
   "source": [
    "@dataclasses.dataclass\n",
    "class IrisSummary:\n",
    "    sepal_length: float\n",
    "    sepal_width: float\n",
    "    petal_length: float\n",
    "    petal_width: float\n",
    "\n",
    "@dataclasses.dataclass\n",
    "class IrisData2:\n",
    "    sepal_length: pd.Series\n",
    "    sepal_width: pd.Series\n",
    "    petal_length: pd.Series\n",
    "    petal_width: pd.Series\n",
    "    species: pd.Series\n",
    "    \n",
    "    @classmethod\n",
    "    def from_dataframe(cls, df: pd.DataFrame) -> typing.Self:\n",
    "        return cls(\n",
    "            sepal_length = df['sepal_length'].astype(np.float64),\n",
    "            sepal_width = df['sepal_width'].astype(np.float64),\n",
    "            petal_length = df['petal_length'].astype(np.float64),\n",
    "            petal_width = df['petal_width'].astype(np.float64),\n",
    "            species = df['species'],\n",
    "        )\n",
    "    \n",
    "    def __repr__(self) -> str:\n",
    "        return f'{self.__class__.__name__}(size={self.sepal_length.shape[0]})'\n",
    "    \n",
    "    def map(self, trans_func: typing.Callable[[pd.Series], pd.Series]) -> typing.Self:\n",
    "        '''Used internally to handle transformations.'''\n",
    "        return self.__class__(\n",
    "            sepal_length = trans_func(self.sepal_length),\n",
    "            sepal_width = trans_func(self.sepal_width),\n",
    "            petal_length = trans_func(self.petal_length),\n",
    "            petal_width = trans_func(self.petal_width),\n",
    "            species = trans_func(self.species),\n",
    "        )\n",
    "    \n",
    "    def group_by(self, groups: pd.Series) -> typing.Dict[typing.Hashable, typing.Self]:\n",
    "        '''Create separate groups of elements.'''\n",
    "        groupings = dict()\n",
    "        for grp in groups.unique():\n",
    "            groupings[grp] = self.__class__(self.map(lambda v: v[groups==grp]))\n",
    "        return groupings\n",
    "\n",
    "    def summarize(self, groups: pd.Series, summary_func: typing.Callable[[pd.Series], pd.Series]) -> IrisSummary:\n",
    "        '''Apply summary functions across groups.'''\n",
    "        summaries = dict()\n",
    "        for grp, grouping in self.group_by(groups).items():\n",
    "            summaries = \n",
    "\n",
    "\n",
    "        return IrisSummary(\n",
    "            sepal_length = summary_func(self.sepal_length),\n",
    "            sepal_width = summary_func(self.sepal_width),\n",
    "            petal_length = summary_func(self.petal_length),\n",
    "            petal_width = summary_func(self.petal_width),\n",
    "        )\n",
    "    \n",
    "\n",
    "\n",
    "    def filter(self, sel: pd.Series) -> typing.Self:\n",
    "        return self._map(lambda v: v[sel])\n",
    "    \n",
    "    def filter_by_species(self, species: str) -> typing.Self:\n",
    "        return self.filter(self.species==species)\n",
    "\n",
    "    def group_by_species(self) -> typing.Dict[str, typing.Self]:\n",
    "        groups = dict()\n",
    "        for species in self.species.unique():\n",
    "            groups[species] = self.filter(self.species==species)\n",
    "        return groups\n",
    "    \n",
    "    def mean_by_species(self) -> SpeciesMean2:\n",
    "        return SpeciesMean2(\n",
    "            av_sepal_length = self.sepal_length.mean(),\n",
    "            av_sepal_width = self.sepal_width.mean(),\n",
    "            av_petal_length = self.petal_length.mean(),\n",
    "            av_petal_width = self.petal_width.mean(),\n",
    "        )\n",
    "    \n",
    "    def as_dataframe(self) -> pd.DataFrame:\n",
    "        return pd.DataFrame.from_dict({\n",
    "            'sepal_length': self.sepal_length,\n",
    "            'sepal_width': self.sepal_width,\n",
    "            'petal_length': self.petal_length,\n",
    "            'petal_width': self.petal_width,\n",
    "            'species': self.species,\n",
    "        })\n",
    "    \n",
    "    def mean_by_species_2(self) -> SpeciesMean2:\n",
    "        avdf = self.as_dataframe().groupby('species').mean()\n",
    "        return SpeciesMean2(\n",
    "            av_sepal_length = float(avdf['sepal_length']),\n",
    "            av_sepal_width = float(avdf['sepal_width']),\n",
    "            av_petal_length = float(avdf['petal_length']),\n",
    "            av_petal_width = float(avdf['petal_width']),\n",
    "        )\n",
    "\n",
    "id2 = IrisData2.from_dataframe(iris_df)\n",
    "id2"
   ]
  },
  {
   "cell_type": "code",
   "execution_count": null,
   "metadata": {},
   "outputs": [
    {
     "data": {
      "text/plain": [
       "IrisData2(size=50)"
      ]
     },
     "execution_count": 25,
     "metadata": {},
     "output_type": "execute_result"
    }
   ],
   "source": [
    "id2.filter_by_species('setosa')"
   ]
  },
  {
   "cell_type": "code",
   "execution_count": null,
   "metadata": {},
   "outputs": [],
   "source": [
    "id2.mean_by_species()"
   ]
  }
 ],
 "metadata": {
  "kernelspec": {
   "display_name": "Python 3 (ipykernel)",
   "language": "python",
   "name": "python3"
  },
  "language_info": {
   "codemirror_mode": {
    "name": "ipython",
    "version": 3
   },
   "file_extension": ".py",
   "mimetype": "text/x-python",
   "name": "python",
   "nbconvert_exporter": "python",
   "pygments_lexer": "ipython3",
   "version": "3.11.5"
  }
 },
 "nbformat": 4,
 "nbformat_minor": 2
}
