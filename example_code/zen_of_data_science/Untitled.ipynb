{
 "cells": [
  {
   "cell_type": "code",
   "execution_count": 2,
   "id": "f40868ae-795e-454c-9bb8-e0772147a6f4",
   "metadata": {},
   "outputs": [],
   "source": [
    "import dataclasses\n",
    "import datetime\n",
    "import typing\n",
    "import random"
   ]
  },
  {
   "cell_type": "code",
   "execution_count": 6,
   "id": "283416d2-6968-4b1c-9e08-f03034c85c3d",
   "metadata": {},
   "outputs": [],
   "source": [
    "@dataclasses.dataclass\n",
    "class Rec:\n",
    "    idx: str\n",
    "    date: datetime.datetime\n",
    "    \n",
    "    @classmethod\n",
    "    def rand(cls, idx: str):\n",
    "        return cls(idx, datetime.datetime.fromtimestamp(0+random.randrange(100)))\n",
    "\n",
    "recs = [Rec.rand(i) for i in range(10000)]"
   ]
  },
  {
   "cell_type": "code",
   "execution_count": 11,
   "id": "0e8c6303-6704-48d0-a116-ddf7526775c3",
   "metadata": {},
   "outputs": [
    {
     "name": "stdout",
     "output_type": "stream",
     "text": [
      "26 ms ± 1.09 ms per loop (mean ± std. dev. of 7 runs, 10 loops each)\n",
      "1.41 ms ± 70.2 µs per loop (mean ± std. dev. of 7 runs, 1000 loops each)\n",
      "1.36 ms ± 25.9 µs per loop (mean ± std. dev. of 7 runs, 1000 loops each)\n"
     ]
    }
   ],
   "source": [
    "import numpy as np\n",
    "def f1(recs):\n",
    "    ts = [r.date for r in recs]\n",
    "    return recs[np.argmin(ts)], recs[np.argmax(ts)]\n",
    "\n",
    "def f2(recs):\n",
    "    min_ts, min_idx = None, None\n",
    "    max_ts, max_idx = None, None\n",
    "    \n",
    "    min_ts, max_ts = recs[0].date, recs[0].date\n",
    "    min_idx, max_idx = 0, 0\n",
    "    for i, rec in enumerate(recs):\n",
    "        if i > 0:\n",
    "            if rec.date < min_ts:\n",
    "                min_ts = rec.date\n",
    "                min_idx = i\n",
    "            if rec.date > max_ts:\n",
    "                max_ts = rec.date\n",
    "                max_idx = i\n",
    "    return recs[min_idx], recs[max_idx]\n",
    "\n",
    "def f3(recs):\n",
    "    min_ts, min_idx = None, None\n",
    "    max_ts, max_idx = None, None\n",
    "    \n",
    "    min_ts, max_ts = recs[0].date, recs[0].date\n",
    "    min_idx, max_idx = 0, 0\n",
    "    for i, rec in enumerate(recs[1:]):\n",
    "        if rec.date < min_ts:\n",
    "            min_ts = rec.date\n",
    "            min_idx = i + 1\n",
    "        if rec.date > max_ts:\n",
    "            max_ts = rec.date\n",
    "            max_idx = i + 1\n",
    "    return recs[min_idx], recs[max_idx]\n",
    "\n",
    "%timeit f1(recs)\n",
    "%timeit f2(recs)\n",
    "%timeit f3(recs)"
   ]
  }
 ],
 "metadata": {
  "kernelspec": {
   "display_name": "Python 3 (ipykernel)",
   "language": "python",
   "name": "python3"
  },
  "language_info": {
   "codemirror_mode": {
    "name": "ipython",
    "version": 3
   },
   "file_extension": ".py",
   "mimetype": "text/x-python",
   "name": "python",
   "nbconvert_exporter": "python",
   "pygments_lexer": "ipython3",
   "version": "3.9.13"
  }
 },
 "nbformat": 4,
 "nbformat_minor": 5
}
