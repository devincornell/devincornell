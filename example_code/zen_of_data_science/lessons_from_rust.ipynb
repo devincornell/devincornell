{
 "cells": [
  {
   "cell_type": "code",
   "execution_count": null,
   "id": "cde45c8e-9d39-4b61-8d49-5bbdec4a138d",
   "metadata": {},
   "outputs": [],
   "source": []
  },
  {
   "cell_type": "code",
   "execution_count": 18,
   "id": "d7ea4519-8d6a-4ff7-b6e8-5d4acd999f46",
   "metadata": {},
   "outputs": [
    {
     "data": {
      "text/plain": [
       "True"
      ]
     },
     "execution_count": 18,
     "metadata": {},
     "output_type": "execute_result"
    }
   ],
   "source": [
    "import dataclasses\n",
    "import typing\n",
    "import enum\n",
    "from typing import Any\n",
    "\n",
    "class Status(enum.Enum):\n",
    "    Ok = enum.auto()\n",
    "    Err = enum.auto()\n",
    "\n",
    "class ReturnStatus:\n",
    "    status = None\n",
    "    def is_okay(self) -> bool:\n",
    "        return self.status is Status.Ok\n",
    "    def handle(self, \n",
    "            err_funcs: typing.Dict[enum.Enum, typing.Callable[[Any],Any]],\n",
    "            okay_func: typing.Callable[[Any],Any] = lambda x: x,\n",
    "        ) -> typing.Any:\n",
    "        if self.is_okay():\n",
    "            return okayfunc(self.data)\n",
    "        else:\n",
    "            return err_funcs[self.error_type](*self.args, **self.kwargs)\n",
    "\n",
    "@dataclasses.dataclass\n",
    "class Ok(ReturnStatus):\n",
    "    data: typing.Any\n",
    "    status: Status = Status.Ok\n",
    "\n",
    "class Err(ReturnStatus):\n",
    "    def __init__(self,\n",
    "        error_type: typing.Any,\n",
    "        *args,\n",
    "        status: Status = Status.Err,\n",
    "        **kwargs,\n",
    "    ):\n",
    "        self.error_type = error_type\n",
    "        self.status = status\n",
    "        self.args = args\n",
    "        self.kwargs = kwargs\n",
    "\n",
    "    \n",
    "class ErrorType(enum.Enum):\n",
    "    MISSING = enum.auto()\n",
    "    NOT_EVEN = enum.auto()\n",
    "    \n",
    "@dataclasses.dataclass\n",
    "class MyType:\n",
    "    a: int\n",
    "    def access_a(self) -> ReturnStatus:\n",
    "        if self.a is None:\n",
    "            return Err(ErrorType.MISSING)\n",
    "        elif self.a % 2 == 0:\n",
    "            return Ok(self.a)\n",
    "        else:\n",
    "            return Err(ErrorType.NOT_EVEN)\n",
    "\n",
    "def raise_(exception: BaseException):\n",
    "    raise exception\n",
    "\n",
    "fme = 54\n",
    "a = MyType(1).access_a().handle({\n",
    "    ErrorType.MISSING: lambda: raise_(ValueError()), \n",
    "    ErrorType.NOT_EVEN: lambda: None,\n",
    "})\n",
    "a"
   ]
  },
  {
   "cell_type": "code",
   "execution_count": null,
   "id": "8ecbca70-5454-4bab-81d2-5181d03008e7",
   "metadata": {},
   "outputs": [],
   "source": [
    "import statistics\n",
    "\n"
   ]
  },
  {
   "cell_type": "code",
   "execution_count": null,
   "id": "f5221ead-3ce7-4fbd-97b8-6214ab5d8111",
   "metadata": {},
   "outputs": [],
   "source": []
  },
  {
   "cell_type": "code",
   "execution_count": null,
   "id": "a831f77a-584b-4bf4-896e-5294cfad789f",
   "metadata": {},
   "outputs": [],
   "source": []
  }
 ],
 "metadata": {
  "kernelspec": {
   "display_name": "Python 3 (ipykernel)",
   "language": "python",
   "name": "python3"
  },
  "language_info": {
   "codemirror_mode": {
    "name": "ipython",
    "version": 3
   },
   "file_extension": ".py",
   "mimetype": "text/x-python",
   "name": "python",
   "nbconvert_exporter": "python",
   "pygments_lexer": "ipython3",
   "version": "3.9.13"
  }
 },
 "nbformat": 4,
 "nbformat_minor": 5
}
