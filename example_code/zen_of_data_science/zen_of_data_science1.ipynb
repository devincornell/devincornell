{
 "cells": [
  {
   "cell_type": "markdown",
   "metadata": {},
   "source": [
    "# Zen of Python: The structure of your data should be explicit\n",
    "Here I show a few design pattern examples you can use in your code. Refer back to the main article to get this right."
   ]
  },
  {
   "cell_type": "code",
   "execution_count": 18,
   "metadata": {},
   "outputs": [
    {
     "name": "stdout",
     "output_type": "stream",
     "text": [
      "(150, 3)\n",
      "   sepal_length  sepal_width species\n",
      "0           5.1          3.5  setosa\n",
      "1           4.9          3.0  setosa\n",
      "2           4.7          3.2  setosa\n",
      "3           4.6          3.1  setosa\n",
      "4           5.0          3.6  setosa\n"
     ]
    },
    {
     "data": {
      "text/html": [
       "<div>\n",
       "<style scoped>\n",
       "    .dataframe tbody tr th:only-of-type {\n",
       "        vertical-align: middle;\n",
       "    }\n",
       "\n",
       "    .dataframe tbody tr th {\n",
       "        vertical-align: top;\n",
       "    }\n",
       "\n",
       "    .dataframe thead th {\n",
       "        text-align: right;\n",
       "    }\n",
       "</style>\n",
       "<table border=\"1\" class=\"dataframe\">\n",
       "  <thead>\n",
       "    <tr style=\"text-align: right;\">\n",
       "      <th></th>\n",
       "      <th>sepal_length</th>\n",
       "      <th>sepal_width</th>\n",
       "      <th>species</th>\n",
       "    </tr>\n",
       "  </thead>\n",
       "  <tbody>\n",
       "    <tr>\n",
       "      <th>0</th>\n",
       "      <td>5.1</td>\n",
       "      <td>3.5</td>\n",
       "      <td>setosa</td>\n",
       "    </tr>\n",
       "    <tr>\n",
       "      <th>1</th>\n",
       "      <td>4.9</td>\n",
       "      <td>3.0</td>\n",
       "      <td>setosa</td>\n",
       "    </tr>\n",
       "    <tr>\n",
       "      <th>2</th>\n",
       "      <td>4.7</td>\n",
       "      <td>3.2</td>\n",
       "      <td>setosa</td>\n",
       "    </tr>\n",
       "    <tr>\n",
       "      <th>3</th>\n",
       "      <td>4.6</td>\n",
       "      <td>3.1</td>\n",
       "      <td>setosa</td>\n",
       "    </tr>\n",
       "    <tr>\n",
       "      <th>4</th>\n",
       "      <td>5.0</td>\n",
       "      <td>3.6</td>\n",
       "      <td>setosa</td>\n",
       "    </tr>\n",
       "  </tbody>\n",
       "</table>\n",
       "</div>"
      ],
      "text/plain": [
       "   sepal_length  sepal_width species\n",
       "0           5.1          3.5  setosa\n",
       "1           4.9          3.0  setosa\n",
       "2           4.7          3.2  setosa\n",
       "3           4.6          3.1  setosa\n",
       "4           5.0          3.6  setosa"
      ]
     },
     "execution_count": 18,
     "metadata": {},
     "output_type": "execute_result"
    }
   ],
   "source": [
    "from __future__ import annotations\n",
    "import seaborn\n",
    "import pandas as pd\n",
    "import typing\n",
    "\n",
    "iris_df = seaborn.load_dataset(\"iris\")\n",
    "iris_df = iris_df[['sepal_length', 'sepal_width', 'species']]\n",
    "assert((iris_df['sepal_length']>0).sum() == iris_df.shape[0])\n",
    "print(iris_df.shape)\n",
    "print(iris_df.head())\n",
    "iris_df.head()"
   ]
  },
  {
   "cell_type": "code",
   "execution_count": 21,
   "metadata": {},
   "outputs": [
    {
     "data": {
      "text/plain": [
       "[{'sepal_length': 5.1, 'sepal_width': 3.5, 'species': 'setosa'},\n",
       " {'sepal_length': 4.9, 'sepal_width': 3.0, 'species': 'setosa'},\n",
       " {'sepal_length': 4.7, 'sepal_width': 3.2, 'species': 'setosa'}]"
      ]
     },
     "execution_count": 21,
     "metadata": {},
     "output_type": "execute_result"
    }
   ],
   "source": [
    "iris_list = iris_df.to_dict(orient='records')\n",
    "iris_list[:3]"
   ]
  },
  {
   "cell_type": "markdown",
   "metadata": {},
   "source": [
    "## Example 1: Dataclasses\n",
    "\n",
    "The `dataclasses` module has been wildly popular lately because it is one of the easiest ways to create data containers. The decorator `dataclasses.dataclass` will generate an `__init__` function that accepts the three defined static attributes, and we use `frozen=True` to indicate that the class should not be modified after being created. This is a good failsafe to have when working with your data unless you have a very good reason to expect modification - instead, I recommend redesigning your code around this constraint."
   ]
  },
  {
   "cell_type": "code",
   "execution_count": 2,
   "metadata": {},
   "outputs": [],
   "source": [
    "import dataclasses\n",
    "\n",
    "@dataclasses.dataclass(frozen=True)\n",
    "class IrisEntryDataclass:\n",
    "    sepal_length: int\n",
    "    sepal_width: int\n",
    "    species: str\n",
    "    \n",
    "    # factory method constructor\n",
    "    @classmethod\n",
    "    def from_dataframe_row(cls, row: pd.Series):\n",
    "        return cls(\n",
    "            sepal_length = row['sepal_length'],\n",
    "            sepal_width = row['sepal_width'],\n",
    "            species = row['species'],\n",
    "        )"
   ]
  },
  {
   "cell_type": "markdown",
   "metadata": {},
   "source": [
    "Using the factory method you can create a list of entry objects that contain the data associated with each row."
   ]
  },
  {
   "cell_type": "code",
   "execution_count": 25,
   "metadata": {},
   "outputs": [
    {
     "data": {
      "text/plain": [
       "[IrisEntryDataclass(sepal_length=5.1, sepal_width=3.5, species='setosa'),\n",
       " IrisEntryDataclass(sepal_length=4.9, sepal_width=3.0, species='setosa'),\n",
       " IrisEntryDataclass(sepal_length=4.7, sepal_width=3.2, species='setosa')]"
      ]
     },
     "execution_count": 25,
     "metadata": {},
     "output_type": "execute_result"
    }
   ],
   "source": [
    "entries = list()\n",
    "for ind, row in iris_df.iterrows():\n",
    "    new_iris = IrisEntryDataclass.from_dataframe_row(row)\n",
    "    entries.append(new_iris)\n",
    "\n",
    "entries[:3]"
   ]
  },
  {
   "cell_type": "markdown",
   "metadata": {},
   "source": [
    "## Example 2: `attrs` Classes\n",
    "\n",
    "Ideally you could impose stricter validation rules on the data inserted into these objects. The `attrs` project maintains a superset of functionality from `dataclasses` (`attrs` actually predates and was an inspiration for `dataclasses`) and provides some convenient decorators and methods for type checking/conversions and value checking. Note below I create validation functions using the `@species.validator`, `@sepal_length.validator`, and `@sepal_width.validator`."
   ]
  },
  {
   "cell_type": "code",
   "execution_count": 4,
   "metadata": {},
   "outputs": [],
   "source": [
    "import attrs\n",
    "import attr\n",
    "\n",
    "@attr.s(frozen=True, slots=True)\n",
    "class IrisEntryAttrs:\n",
    "    '''Represents a single iris.'''\n",
    "    sepal_length: int = attrs.field(converter=float)\n",
    "    sepal_width: int = attrs.field(converter=float)\n",
    "    species: str = attrs.field(converter=str) \n",
    "    \n",
    "    ######################### Factory Methods #########################\n",
    "    @classmethod\n",
    "    def from_dataframe_row(cls, row: pd.Series):\n",
    "        return cls(\n",
    "            sepal_length = row['sepal_length'],\n",
    "            sepal_width = row['sepal_width'],\n",
    "            species = row['species'],\n",
    "        )\n",
    "    \n",
    "    ######################### Validators #########################\n",
    "    @species.validator\n",
    "    def species_validator(self, attr, value) -> None:\n",
    "        if not len(value) > 0:\n",
    "            raise ValueError(f'{attr.name} cannot be empty')\n",
    "    \n",
    "    @sepal_length.validator\n",
    "    @sepal_width.validator\n",
    "    def meas_validator(self, attr, value) -> None:\n",
    "        if not value > 0:\n",
    "            raise ValueError(f'{attr.name} was out of range')\n",
    "    \n",
    "    ######################### Properties #########################\n",
    "    def sepal_area(self) -> float:\n",
    "        return self.sepal_length * self.sepal_width"
   ]
  },
  {
   "cell_type": "markdown",
   "metadata": {},
   "source": [
    "## Example 3: Overloading Builtin Data Structures\n",
    "Follwing conventions, one might be tempted to build a container object for the list of entries, although in some select cases it might make sense to create a container that directly inherits from the builtin `list`, or, as shown here `typing.List` (which is supposed to be more friendly for inheritence). In general inheritance is bad for your health, but in some select cases it can make things simpler. Here our primary use is to introduce the factory method `from_dataframe`, which simply calls the `IrisEntryAttrs` factory method to parse each row of the dataframe separately. This way you can add operations like grouping or filtering or even data type conversion as an extension of the list."
   ]
  },
  {
   "cell_type": "code",
   "execution_count": 27,
   "metadata": {},
   "outputs": [
    {
     "data": {
      "text/plain": [
       "[IrisEntryDataclass(sepal_length=5.1, sepal_width=3.5, species='setosa'),\n",
       " IrisEntryDataclass(sepal_length=4.9, sepal_width=3.0, species='setosa')]"
      ]
     },
     "execution_count": 27,
     "metadata": {},
     "output_type": "execute_result"
    }
   ],
   "source": [
    "class IrisEntriesList(typing.List[IrisEntryDataclass]):\n",
    "    \n",
    "    ######################### Factory Methods #########################\n",
    "    @classmethod\n",
    "    def from_dataframe(cls, df: pd.DataFrame):\n",
    "        # add type hint by hinting at returned variable\n",
    "        elist = [IrisEntryDataclass.from_dataframe_row(row) for ind,row in df.iterrows()]\n",
    "        new_entries: cls = cls(elist)\n",
    "        return new_entries\n",
    "        \n",
    "    ######################### Grouping and Filtering #########################\n",
    "    def group_by_species(self) -> typing.Dict[str, IrisEntriesList]:\n",
    "        groups = dict()\n",
    "        for e in self:\n",
    "            groups.setdefault(e.species, self.__class__())\n",
    "            groups[e.species].append(e)\n",
    "        return groups\n",
    "\n",
    "    def filter_sepal_area(self, sepal_area: float):\n",
    "        elist = [e for e in self if e.sepal_area() >= sepal_area]\n",
    "        entries: self.__class__ = self.__class__(elist)\n",
    "        return entries\n",
    "    \n",
    "entries = IrisEntriesList.from_dataframe(iris_df)\n",
    "entries[:2]"
   ]
  },
  {
   "cell_type": "markdown",
   "metadata": {},
   "source": [
    "## Misc examples from the article\n",
    "Here I'm including some of the quick examples I showed in the article.\n",
    "\n",
    "### Don't Use Dataframes\n",
    "Dataframes are generally popular because they are easy to use and great for plotting and creating summary statistics. While I often use them to work with tabular data, I suggest that you avoid using them as the primary data structures in your pipelines for two reasons: (1) you do not have explicit knowledge about your data without introspecting, and the introspection may need to happen at multiple levels of your program; and (2) they are often the wrong tools for the job (performance-wise) - even though they may be fine for many tasks."
   ]
  },
  {
   "cell_type": "code",
   "execution_count": 15,
   "metadata": {},
   "outputs": [
    {
     "data": {
      "text/plain": [
       "0         setosa\n",
       "1         setosa\n",
       "2         setosa\n",
       "3         setosa\n",
       "4         setosa\n",
       "         ...    \n",
       "145    virginica\n",
       "146    virginica\n",
       "147    virginica\n",
       "148    virginica\n",
       "149    virginica\n",
       "Name: species, Length: 150, dtype: object"
      ]
     },
     "execution_count": 15,
     "metadata": {},
     "output_type": "execute_result"
    }
   ],
   "source": [
    "iris_df['species']\n",
    "iris_df.species"
   ]
  },
  {
   "cell_type": "markdown",
   "metadata": {},
   "source": [
    "### Nested Iterables\n",
    "For languages such as Python, one might prefer to use standard data structures like `list`s, `dict`s, and `set`s to structure your data because they are simple, and in many cases, the right tools for the job (as in, you can choose to use optimal data structures for whatever operations you will perform - an approach often missed by dataframe users). However, they can be a lot to keep track of as the data takes on more complicated structures and you are tracing it through larger and larger callstacks. You can see the complexity from the type hints I provide in `group_by_species` - a function that simply groups objects by species. The function accepts a list of dictionaries mapping strings to floats or strings, and it outputs a dictionary mapping strings to lists of dictionaries that map strings to floats or strings."
   ]
  },
  {
   "cell_type": "code",
   "execution_count": 19,
   "metadata": {},
   "outputs": [
    {
     "data": {
      "text/plain": [
       "'[{\"sepal_length\": 5.1, \"sepal_width\": 3.5, \"species\": \"setosa\"}, {\"sepal_length\": 4.9, \"sepal_width\": 3.0, \"species\": \"setosa\"}, {\"sepal_length\": 4.7, \"sepal_width\": 3.2, \"species\": \"setosa\"}, {\"sepal_length\": 4.6, \"sepal_width\": 3.1, \"species\": \"setosa\"}, {\"sepal_length\": 5.0, \"sepal_width\": 3.6, \"species\": \"setosa\"}]'"
      ]
     },
     "execution_count": 19,
     "metadata": {},
     "output_type": "execute_result"
    }
   ],
   "source": [
    "import json\n",
    "import pprint\n",
    "(json.dumps(iris_list[:5]))"
   ]
  },
  {
   "cell_type": "code",
   "execution_count": 8,
   "metadata": {},
   "outputs": [
    {
     "data": {
      "text/plain": [
       "3.758"
      ]
     },
     "execution_count": 8,
     "metadata": {},
     "output_type": "execute_result"
    }
   ],
   "source": [
    "import statistics\n",
    "statistics.mean([iris['petal_length'] for iris in irises])"
   ]
  },
  {
   "cell_type": "markdown",
   "metadata": {},
   "source": []
  },
  {
   "cell_type": "code",
   "execution_count": 9,
   "metadata": {},
   "outputs": [
    {
     "data": {
      "text/plain": [
       "dict_keys(['setosa', 'versicolor', 'virginica'])"
      ]
     },
     "execution_count": 9,
     "metadata": {},
     "output_type": "execute_result"
    }
   ],
   "source": [
    "EntryList = typing.List[typing.Dict[str, typing.Union[float, str]]]\n",
    "def group_by_species(irises: EntryList) -> typing.Dict[str, EntryList]:\n",
    "    groups = dict()\n",
    "    for iris in irises:\n",
    "        groups.setdefault(iris['species'], list())\n",
    "        groups[iris['species']].append(iris)\n",
    "    return groups\n",
    "\n",
    "groups = group_by_species(irises)\n",
    "groups.keys()"
   ]
  }
 ],
 "metadata": {
  "kernelspec": {
   "display_name": "Python 3 (ipykernel)",
   "language": "python",
   "name": "python3"
  },
  "language_info": {
   "codemirror_mode": {
    "name": "ipython",
    "version": 3
   },
   "file_extension": ".py",
   "mimetype": "text/x-python",
   "name": "python",
   "nbconvert_exporter": "python",
   "pygments_lexer": "ipython3",
   "version": "3.9.13"
  },
  "vscode": {
   "interpreter": {
    "hash": "6655beaf7f57a241ed2fe3a58b558d568db09842d57c904b8c0db510272f5c22"
   }
  }
 },
 "nbformat": 4,
 "nbformat_minor": 4
}
