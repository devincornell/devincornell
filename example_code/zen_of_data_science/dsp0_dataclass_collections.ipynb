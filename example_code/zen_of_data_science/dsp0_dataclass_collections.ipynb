{
 "cells": [
  {
   "cell_type": "code",
   "execution_count": 25,
   "id": "d23633e5-40b0-4ccb-a507-9039de764719",
   "metadata": {},
   "outputs": [],
   "source": [
    "import dataclasses\n",
    "import typing\n",
    "import statistics\n",
    "\n",
    "@dataclasses.dataclass\n",
    "class MyType:\n",
    "    a: int\n",
    "    b: float\n",
    "    \n",
    "    @classmethod\n",
    "    def from_number(cls, i: int):\n",
    "        return cls(i, 1/(i+1))\n",
    "\n",
    "class MyTypeAverage(MyType):\n",
    "    @classmethod\n",
    "    def from_mytypes(cls, mtypes: typing.Iterable[MyType]):\n",
    "        return cls(\n",
    "            a = statistics.mean([o.a for o in mtypes]),\n",
    "            b = statistics.mean([o.b for o in mtypes]),\n",
    "        )"
   ]
  },
  {
   "cell_type": "code",
   "execution_count": 26,
   "id": "4df32ee7-8c0e-4124-835c-ce0e2c8c092d",
   "metadata": {},
   "outputs": [
    {
     "data": {
      "text/plain": [
       "MyTypeAverage(a=4.5, b=0.2928968253968254)"
      ]
     },
     "execution_count": 26,
     "metadata": {},
     "output_type": "execute_result"
    }
   ],
   "source": [
    "@dataclasses.dataclass\n",
    "class MyCollection:\n",
    "    objs: typing.List[MyType] = dataclasses.field(default_factory=list)\n",
    "    \n",
    "    @classmethod\n",
    "    def from_ab_pairs(cls, elements: typing.Iterable):\n",
    "        return cls([MyType(*el) for el in elements])\n",
    "    \n",
    "    def append(self, *args, **kwargs) -> None:\n",
    "        return self.objs.append(*args, **kwargs)\n",
    "    \n",
    "    def append_mytype(self, *args, **kwargs) -> None:\n",
    "        return self.objs.append(MyType(*args, **kwargs))\n",
    "    \n",
    "    @classmethod\n",
    "    def from_numbers(cls, numbers: typing.Iterable[int]):\n",
    "        return cls([MyType.from_number(i) for i in numbers])\n",
    "    \n",
    "    def filter(self, keep_if: typing.Callable[[MyType], bool]):\n",
    "        return self.__class__([o for o in self.objs if keep_if(o)])\n",
    "    \n",
    "    def average(self) -> MyTypeAverage:\n",
    "        return MyTypeAverage(\n",
    "            a = statistics.mean([o.a for o in self.objs]),\n",
    "            b = statistics.mean([o.b for o in self.objs]),\n",
    "        )\n",
    "    \n",
    "    def average_sfm(self) -> MyTypeAverage:\n",
    "        return MyTypeAverage.from_mytypes(self.objs)\n",
    "    \n",
    "    def group_by(self, key_func: typing.Callable[[MyType], typing.Hashable]) -> typing.Dict[MyCollection]:\n",
    "        groups = dict()\n",
    "        for el in self.objs:\n",
    "            k = key_func(el)\n",
    "            if k not in groups:\n",
    "                groups[k] = self.__class__()\n",
    "            groups[k].append(el)\n",
    "        return groups\n",
    "    \n",
    "MyCollection([])\n",
    "MyCollection()\n",
    "mc = MyCollection([])\n",
    "mc.append(MyType(1, 2.0))\n",
    "mytypes = MyCollection([MyType(i, 1/(i+1)) for i in range(10)])\n",
    "mytypes = MyCollection.from_numbers(range(10))\n",
    "mytypes.filter(lambda mt: mt.a > 4)\n",
    "mytypes.average()\n",
    "mytypes.average_sfm()"
   ]
  },
  {
   "cell_type": "code",
   "execution_count": null,
   "id": "4e412422-331a-4fc0-878e-69297aca245f",
   "metadata": {},
   "outputs": [],
   "source": [
    "class MyCollectionExtended(typing.List[MyType]):\n",
    "    \n",
    "    @classmethod\n",
    "    def from_ab_pairs(cls, elements: typing.Iterable):\n",
    "        return cls(MyType(*el) for el in elements)\n"
   ]
  }
 ],
 "metadata": {
  "kernelspec": {
   "display_name": "Python 3 (ipykernel)",
   "language": "python",
   "name": "python3"
  },
  "language_info": {
   "codemirror_mode": {
    "name": "ipython",
    "version": 3
   },
   "file_extension": ".py",
   "mimetype": "text/x-python",
   "name": "python",
   "nbconvert_exporter": "python",
   "pygments_lexer": "ipython3",
   "version": "3.9.13"
  }
 },
 "nbformat": 4,
 "nbformat_minor": 5
}
