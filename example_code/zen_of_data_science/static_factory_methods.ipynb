{
 "cells": [
  {
   "cell_type": "code",
   "execution_count": 1,
   "metadata": {},
   "outputs": [
    {
     "name": "stdout",
     "output_type": "stream",
     "text": [
      "<__main__.Coord object at 0x79d87058bb10>\n",
      "<__main__.Coord object at 0x79d87058be50>\n",
      "<__main__.Coord object at 0x79d874011510>\n"
     ]
    }
   ],
   "source": [
    "import typing\n",
    "import math\n",
    "\n",
    "class Coord:\n",
    "    def __init__(self, x: int, y: float) -> typing.Self:\n",
    "        self.x = x\n",
    "        self.y = y\n",
    "\n",
    "    def __repr__(self) -> str:\n",
    "        return f'{self.__class__.__name__}(x={self.x}, y={self.y})'\n",
    "\n",
    "    @classmethod\n",
    "    def quadratic(cls, x: int) -> typing.Self:\n",
    "        return cls(x=x, y=x**2)\n",
    "    \n",
    "    @classmethod\n",
    "    def cubic(cls, x: int) -> typing.Self:\n",
    "        return cls(x=x, y=x**2)\n",
    "    \n",
    "    @classmethod\n",
    "    def sqrt(cls, x: int) -> typing.Self:\n",
    "        return cls(x=x, y=math.sqrt(x))\n",
    "\n",
    "print(Coord.quadratic(2))\n",
    "print(Coord.cubic(2))\n",
    "print(Coord.sqrt(2))"
   ]
  },
  {
   "cell_type": "code",
   "execution_count": null,
   "metadata": {},
   "outputs": [],
   "source": []
  }
 ],
 "metadata": {
  "kernelspec": {
   "display_name": "Python 3 (ipykernel)",
   "language": "python",
   "name": "python3"
  },
  "language_info": {
   "codemirror_mode": {
    "name": "ipython",
    "version": 3
   },
   "file_extension": ".py",
   "mimetype": "text/x-python",
   "name": "python",
   "nbconvert_exporter": "python",
   "pygments_lexer": "ipython3",
   "version": "3.11.5"
  }
 },
 "nbformat": 4,
 "nbformat_minor": 2
}
