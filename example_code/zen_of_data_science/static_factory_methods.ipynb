{
 "cells": [
  {
   "cell_type": "code",
   "execution_count": 21,
   "metadata": {},
   "outputs": [
    {
     "name": "stdout",
     "output_type": "stream",
     "text": [
      ".\n",
      "Coord(x=0.0, y=0.0)\n",
      "Coord(x=2, y=4)\n",
      "Coord(x=0.5000000000000001, y=0.8660254037844386)\n"
     ]
    }
   ],
   "source": [
    "import typing\n",
    "import math\n",
    "\n",
    "class Coord:\n",
    "    x: float\n",
    "    y: float\n",
    "    def __init__(self, x: float, y: float) -> typing.Self:\n",
    "        self.x = x\n",
    "        self.y = y\n",
    "\n",
    "    def __repr__(self) -> str:\n",
    "        return f'{self.__class__.__name__}(x={self.x}, y={self.y})'\n",
    "    \n",
    "    def __add__(self, other: typing.Self) -> typing.Self:\n",
    "        return self.__class__(\n",
    "            x = self.x + other.x,\n",
    "            y = self.y + other.y,\n",
    "        )\n",
    "    \n",
    "    @classmethod\n",
    "    def zero(cls) -> typing.Self:\n",
    "        return cls(x=0.0,y=0.0)\n",
    "\n",
    "    @classmethod\n",
    "    def new(cls, x: float, y: float, verbose: bool = False) -> typing.Self:\n",
    "        o = cls(\n",
    "            x = x,\n",
    "            y = y,\n",
    "        )\n",
    "        if verbose:\n",
    "            print(f'New {cls.__name__} was created: {o}')\n",
    "        return o\n",
    "    \n",
    "    @classmethod\n",
    "    def new_finite(cls, x: float, y: float) -> typing.Self:\n",
    "        invalids = (float('inf'), float('-inf'))\n",
    "        if x in invalids or y in invalids:\n",
    "            raise ValueError(f'x and y must be finite values.')\n",
    "        return cls(\n",
    "            x = x,\n",
    "            y = y,\n",
    "        )\n",
    "\n",
    "    @classmethod\n",
    "    def from_quadratic(cls, x: float) -> typing.Self:\n",
    "        return cls(x=x, y=x**2)\n",
    "\n",
    "    @classmethod\n",
    "    def from_polar(cls, r: float, theta: float) -> typing.Self:\n",
    "        return cls(\n",
    "            x = r * math.cos(theta),\n",
    "            y = r * math.sin(theta),\n",
    "        )\n",
    "    \n",
    "#print(sum([Coord(1, 1) + Coord(1, 2), Coord(2,2)], start=Coord.zero()))\n",
    "try:\n",
    "    print(Coord.new_finite(0.0, float('inf')))\n",
    "except ValueError as e:\n",
    "    print('.')\n",
    "print(Coord(0.0, 0.0))\n",
    "print(Coord.from_quadratic(2))\n",
    "print(Coord.from_polar(1.0, math.pi / 3))"
   ]
  },
  {
   "cell_type": "code",
   "execution_count": 14,
   "metadata": {},
   "outputs": [
    {
     "name": "stdout",
     "output_type": "stream",
     "text": [
      "500\n"
     ]
    }
   ],
   "source": [
    "class MyError1(Exception):\n",
    "    error_code: int\n",
    "\n",
    "    def __init__(self, error_code: int):\n",
    "        super().__init__(f'Received error with code {error_code}.')\n",
    "        self.error_code = error_code\n",
    "\n",
    "try:\n",
    "    raise MyError1(500)\n",
    "except MyError1 as e:\n",
    "    print(e.error_code)"
   ]
  },
  {
   "cell_type": "code",
   "execution_count": 16,
   "metadata": {},
   "outputs": [
    {
     "name": "stdout",
     "output_type": "stream",
     "text": [
      "500\n"
     ]
    }
   ],
   "source": [
    "class MyError2(Exception):\n",
    "    error_code: int\n",
    "    \n",
    "    @classmethod\n",
    "    def with_msg_code(cls, message: str, code: int) -> typing.Self:\n",
    "        o = cls(message)\n",
    "        o.error_code = code\n",
    "        return o\n",
    "    \n",
    "    @classmethod\n",
    "    def from_error_code(cls, code: int) -> typing.Self:\n",
    "        return cls.with_msg_code(f'Encountered error {code}.', code=code)\n",
    "    \n",
    "    @classmethod\n",
    "    def from_io_error(cls) -> typing.Self:\n",
    "        code = 500\n",
    "        return cls.with_msg_code(f'Encountered IO error (error code {code}).', code=code)\n",
    "    \n",
    "    @property\n",
    "    def is_io_error(self) -> bool:\n",
    "        return self.error_code is 500\n",
    "\n",
    "try:\n",
    "    raise MyError2.from_io_error()\n",
    "except MyError2 as e:\n",
    "    print(e.is_io_error)"
   ]
  }
 ],
 "metadata": {
  "kernelspec": {
   "display_name": "Python 3 (ipykernel)",
   "language": "python",
   "name": "python3"
  },
  "language_info": {
   "codemirror_mode": {
    "name": "ipython",
    "version": 3
   },
   "file_extension": ".py",
   "mimetype": "text/x-python",
   "name": "python",
   "nbconvert_exporter": "python",
   "pygments_lexer": "ipython3",
   "version": "3.11.5"
  }
 },
 "nbformat": 4,
 "nbformat_minor": 2
}
