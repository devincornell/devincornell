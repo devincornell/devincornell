{
 "cells": [
  {
   "cell_type": "code",
   "execution_count": 4,
   "id": "d77da37e-2b23-45a4-aa2a-31b2edeefb9f",
   "metadata": {},
   "outputs": [
    {
     "name": "stdout",
     "output_type": "stream",
     "text": [
      "(150, 5)\n",
      "   sepal_length  sepal_width  petal_length  petal_width species\n",
      "0           5.1          3.5           1.4          0.2  setosa\n",
      "1           4.9          3.0           1.4          0.2  setosa\n",
      "2           4.7          3.2           1.3          0.2  setosa\n",
      "3           4.6          3.1           1.5          0.2  setosa\n",
      "4           5.0          3.6           1.4          0.2  setosa\n"
     ]
    }
   ],
   "source": [
    "from __future__ import annotations\n",
    "import seaborn\n",
    "import pandas as pd\n",
    "import typing\n",
    "\n",
    "iris_df = seaborn.load_dataset(\"iris\")\n",
    "print(iris_df.shape)\n",
    "print(iris_df.head())"
   ]
  },
  {
   "cell_type": "code",
   "execution_count": 11,
   "id": "4ce7981c-5987-4ff5-9a64-6ab368d8ae0a",
   "metadata": {},
   "outputs": [
    {
     "data": {
      "text/plain": [
       "150"
      ]
     },
     "execution_count": 11,
     "metadata": {},
     "output_type": "execute_result"
    }
   ],
   "source": [
    "import dataclasses\n",
    "\n",
    "@dataclasses.dataclass\n",
    "class IrisEntry:\n",
    "    sepal_length: float\n",
    "    sepal_width: float\n",
    "    species: str\n",
    "    \n",
    "    def sepal_area(self) -> float:\n",
    "        return self.sepal_length * self.sepal_width\n",
    "        \n",
    "    @classmethod\n",
    "    def from_series(cls, row: pd.Series):\n",
    "        return cls(\n",
    "            sepal_length = row['sepal_length'],\n",
    "            sepal_width = row['sepal_width'],\n",
    "            species = row['species'],\n",
    "        )\n",
    "    \n",
    "class AverageIrisEntry(IrisEntry):\n",
    "    pass\n",
    "    \n",
    "import multiprocessing\n",
    "import statistics\n",
    "import numpy as np\n",
    "import typing\n",
    "class Irises(typing.List[IrisEntry]):\n",
    "\n",
    "    @classmethod\n",
    "    def from_dataframe(cls, df: pd.DataFrame):\n",
    "        irises = cls()\n",
    "        for ind, row in iris_df.iterrows():\n",
    "            irises.append(IrisEntry.from_series(row))\n",
    "        return irises\n",
    "    \n",
    "    def average_by_species(self, do_width: bool = False) -> IrisEntry:\n",
    "        avs = dict()\n",
    "        for species, irises in self.group_by_species().items():\n",
    "            avs[species] = AverageIrisEntry(\n",
    "                sepal_length = statistics.mean([ie.sepal_length for ie in irises]),\n",
    "                sepal_width = statistics.mean([ie.sepal_width for ie in irises]) if do_width else None,\n",
    "                species = species,\n",
    "            )\n",
    "        return avs\n",
    "    \n",
    "    def group_by_species(self) -> typing.Dict[Species, Irises]:\n",
    "        groups = dict()\n",
    "        for ir in self:\n",
    "            groups.setdefault(ir.species, self.__class__())\n",
    "            groups[ir.species].append(ir)\n",
    "        return groups\n",
    "    \n",
    "    def sepal_arrays(self) -> typing.Tuple[np.ndarray[np.float64], np.ndarray[np.float64]]:\n",
    "        return np.array([ie.sepal_length for ie in self], dtype=np.float64), np.array([ie.sepal_width for ie in self], dtype=np.float64)\n",
    "        \n",
    "    def calc_areas_parallel(self, n_processes: int = 4) -> typing.List[IrisArea]:\n",
    "        with multiprocessing.Pool(n_processes) as p:\n",
    "            areas = p.map(self.calc_iris_area, self)\n",
    "        return areas\n",
    "irises = Irises.from_dataframe(iris_df)\n",
    "len(irises)"
   ]
  },
  {
   "cell_type": "code",
   "execution_count": 9,
   "id": "f208c9f2-f35f-4297-8bd0-2495015007a1",
   "metadata": {},
   "outputs": [
    {
     "name": "stdout",
     "output_type": "stream",
     "text": [
      "(1500000, 5) 150\n",
      "209 µs ± 1.36 µs per loop (mean ± std. dev. of 7 runs, 1000 loops each)\n",
      "478 µs ± 3.06 µs per loop (mean ± std. dev. of 7 runs, 1000 loops each)\n",
      "393 µs ± 15.6 µs per loop (mean ± std. dev. of 7 runs, 1000 loops each)\n",
      "1.27 ms ± 7.43 µs per loop (mean ± std. dev. of 7 runs, 1000 loops each)\n"
     ]
    }
   ],
   "source": [
    "long_iris_df = pd.concat([iris_df for _ in range(10000)])\n",
    "irises_long = Irises.from_dataframe(long_iris_df)\n",
    "print(long_iris_df.shape, len(irises_long))\n",
    "\n",
    "%timeit irises_long.average_by_species()\n",
    "%timeit iris_df.groupby('species')['sepal_length'].sum()\n",
    "\n",
    "%timeit irises_long.average_by_species(True)\n",
    "%timeit iris_df.groupby('species').agg({'sepal_length':\"sum\", 'sepal_width': \"sum\"})"
   ]
  },
  {
   "cell_type": "code",
   "execution_count": 13,
   "id": "204f9742-0828-407d-aa9e-777396ddb2f1",
   "metadata": {},
   "outputs": [
    {
     "name": "stdout",
     "output_type": "stream",
     "text": [
      "29.1 µs ± 16.5 ns per loop (mean ± std. dev. of 7 runs, 10000 loops each)\n",
      "788 ns ± 3.51 ns per loop (mean ± std. dev. of 7 runs, 1000000 loops each)\n",
      "1.65 ms ± 75.9 µs per loop (mean ± std. dev. of 7 runs, 1000 loops each)\n"
     ]
    }
   ],
   "source": [
    "%timeit l, w = irises_long.sepal_arrays()\n",
    "%timeit l * w\n",
    "%timeit long_iris_df['sepal_length'] * long_iris_df['sepal_length']"
   ]
  },
  {
   "cell_type": "code",
   "execution_count": null,
   "id": "b31371fd-aa69-40cf-b854-ee78e51e63f0",
   "metadata": {},
   "outputs": [],
   "source": []
  },
  {
   "cell_type": "code",
   "execution_count": null,
   "id": "285dc57a-fb0f-493e-8003-c550821e3c74",
   "metadata": {},
   "outputs": [],
   "source": []
  },
  {
   "cell_type": "code",
   "execution_count": null,
   "id": "35702fd2-c529-4ed9-8f07-37ffd5da90af",
   "metadata": {},
   "outputs": [],
   "source": []
  },
  {
   "cell_type": "code",
   "execution_count": null,
   "id": "fb4d3cdc-4699-48b7-b569-2350af9c450b",
   "metadata": {},
   "outputs": [],
   "source": []
  },
  {
   "cell_type": "code",
   "execution_count": 9,
   "id": "dd55f6c2-ad19-4b40-adf3-ea60936a6e89",
   "metadata": {},
   "outputs": [
    {
     "data": {
      "text/plain": [
       "IrisArray(sepal_length=0      5.1\n",
       "4      5.0\n",
       "5      5.4\n",
       "7      5.0\n",
       "10     5.4\n",
       "      ... \n",
       "145    6.7\n",
       "146    6.3\n",
       "147    6.5\n",
       "148    6.2\n",
       "149    5.9\n",
       "Name: sepal_length, Length: 128, dtype: float64, sepal_width=0      3.5\n",
       "4      3.6\n",
       "5      3.9\n",
       "7      3.4\n",
       "10     3.7\n",
       "      ... \n",
       "145    3.0\n",
       "146    2.5\n",
       "147    3.0\n",
       "148    3.4\n",
       "149    3.0\n",
       "Name: sepal_width, Length: 128, dtype: float64, species=0         setosa\n",
       "4         setosa\n",
       "5         setosa\n",
       "7         setosa\n",
       "10        setosa\n",
       "         ...    \n",
       "145    virginica\n",
       "146    virginica\n",
       "147    virginica\n",
       "148    virginica\n",
       "149    virginica\n",
       "Name: species, Length: 128, dtype: object)"
      ]
     },
     "execution_count": 9,
     "metadata": {},
     "output_type": "execute_result"
    }
   ],
   "source": [
    "import numpy as np\n",
    "import dataclasses\n",
    "\n",
    "@dataclasses.dataclass\n",
    "class IrisArray:\n",
    "    sepal_length: np.ndarray[np.float64]\n",
    "    sepal_width: np.ndarray[np.float64]\n",
    "    species: np.ndarray[str]\n",
    "    \n",
    "    @classmethod\n",
    "    def from_df(cls, df: pd.DataFrame):\n",
    "        return cls(\n",
    "            sepal_length = df['sepal_length'],\n",
    "            sepal_width = df['sepal_width'],\n",
    "            species = df['species'],\n",
    "        )\n",
    "    \n",
    "    def filter_sepal_length(self, min_sepal_length: float) -> IrisArray:\n",
    "        ind = self.sepal_length >= min_sepal_length\n",
    "        return self.__class__(\n",
    "            sepal_length = self.sepal_length[ind],\n",
    "            sepal_width = self.sepal_width[ind],\n",
    "            species = self.species[ind],\n",
    "        )\n",
    "    \n",
    "irises = IrisArray.from_df(iris_df).filter_sepal_length(5.0)\n",
    "irises"
   ]
  }
 ],
 "metadata": {
  "kernelspec": {
   "display_name": "Python 3 (ipykernel)",
   "language": "python",
   "name": "python3"
  },
  "language_info": {
   "codemirror_mode": {
    "name": "ipython",
    "version": 3
   },
   "file_extension": ".py",
   "mimetype": "text/x-python",
   "name": "python",
   "nbconvert_exporter": "python",
   "pygments_lexer": "ipython3",
   "version": "3.9.13"
  }
 },
 "nbformat": 4,
 "nbformat_minor": 5
}
