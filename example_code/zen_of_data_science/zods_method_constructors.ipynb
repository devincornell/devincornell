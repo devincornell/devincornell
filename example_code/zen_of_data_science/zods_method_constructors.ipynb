{
 "cells": [
  {
   "cell_type": "code",
   "execution_count": 7,
   "id": "e3aa8ca8-9c9f-435d-8e50-fcdac3edc4b9",
   "metadata": {},
   "outputs": [],
   "source": [
    "from __future__ import annotations\n",
    "import attrs\n",
    "import attr\n",
    "import typing"
   ]
  },
  {
   "cell_type": "code",
   "execution_count": 5,
   "id": "ea855571-bf09-46fb-aa8a-face87c03ac0",
   "metadata": {},
   "outputs": [
    {
     "name": "stdout",
     "output_type": "stream",
     "text": [
      "(150, 5)\n",
      "   sepal_length  sepal_width  petal_length  petal_width species\n",
      "0           5.1          3.5           1.4          0.2  setosa\n",
      "1           4.9          3.0           1.4          0.2  setosa\n",
      "2           4.7          3.2           1.3          0.2  setosa\n",
      "3           4.6          3.1           1.5          0.2  setosa\n",
      "4           5.0          3.6           1.4          0.2  setosa\n"
     ]
    },
    {
     "data": {
      "text/html": [
       "<div>\n",
       "<style scoped>\n",
       "    .dataframe tbody tr th:only-of-type {\n",
       "        vertical-align: middle;\n",
       "    }\n",
       "\n",
       "    .dataframe tbody tr th {\n",
       "        vertical-align: top;\n",
       "    }\n",
       "\n",
       "    .dataframe thead th {\n",
       "        text-align: right;\n",
       "    }\n",
       "</style>\n",
       "<table border=\"1\" class=\"dataframe\">\n",
       "  <thead>\n",
       "    <tr style=\"text-align: right;\">\n",
       "      <th></th>\n",
       "      <th>sepal_length</th>\n",
       "      <th>sepal_width</th>\n",
       "      <th>petal_length</th>\n",
       "      <th>petal_width</th>\n",
       "      <th>species</th>\n",
       "    </tr>\n",
       "  </thead>\n",
       "  <tbody>\n",
       "    <tr>\n",
       "      <th>0</th>\n",
       "      <td>5.1</td>\n",
       "      <td>3.5</td>\n",
       "      <td>1.4</td>\n",
       "      <td>0.2</td>\n",
       "      <td>setosa</td>\n",
       "    </tr>\n",
       "    <tr>\n",
       "      <th>1</th>\n",
       "      <td>4.9</td>\n",
       "      <td>3.0</td>\n",
       "      <td>1.4</td>\n",
       "      <td>0.2</td>\n",
       "      <td>setosa</td>\n",
       "    </tr>\n",
       "    <tr>\n",
       "      <th>2</th>\n",
       "      <td>4.7</td>\n",
       "      <td>3.2</td>\n",
       "      <td>1.3</td>\n",
       "      <td>0.2</td>\n",
       "      <td>setosa</td>\n",
       "    </tr>\n",
       "    <tr>\n",
       "      <th>3</th>\n",
       "      <td>4.6</td>\n",
       "      <td>3.1</td>\n",
       "      <td>1.5</td>\n",
       "      <td>0.2</td>\n",
       "      <td>setosa</td>\n",
       "    </tr>\n",
       "    <tr>\n",
       "      <th>4</th>\n",
       "      <td>5.0</td>\n",
       "      <td>3.6</td>\n",
       "      <td>1.4</td>\n",
       "      <td>0.2</td>\n",
       "      <td>setosa</td>\n",
       "    </tr>\n",
       "  </tbody>\n",
       "</table>\n",
       "</div>"
      ],
      "text/plain": [
       "   sepal_length  sepal_width  petal_length  petal_width species\n",
       "0           5.1          3.5           1.4          0.2  setosa\n",
       "1           4.9          3.0           1.4          0.2  setosa\n",
       "2           4.7          3.2           1.3          0.2  setosa\n",
       "3           4.6          3.1           1.5          0.2  setosa\n",
       "4           5.0          3.6           1.4          0.2  setosa"
      ]
     },
     "execution_count": 5,
     "metadata": {},
     "output_type": "execute_result"
    }
   ],
   "source": [
    "import seaborn\n",
    "import pandas as pd\n",
    "iris_df = seaborn.load_dataset(\"iris\")\n",
    "print(iris_df.shape)\n",
    "print(iris_df.head())\n",
    "iris_df.head()"
   ]
  },
  {
   "cell_type": "code",
   "execution_count": 6,
   "id": "310c7602-f58a-469d-9618-7cfe3bb5963a",
   "metadata": {},
   "outputs": [],
   "source": [
    "import attrs\n",
    "import attr\n",
    "\n",
    "@attr.s(frozen=True, slots=True)\n",
    "class IrisEntry:\n",
    "    sepal_length: int = attrs.field(converter=float)\n",
    "    sepal_width: int = attrs.field(converter=float)\n",
    "    petal_length: int = attrs.field(converter=float)\n",
    "    petal_width: int = attrs.field(converter=float)\n",
    "    species: str = attrs.field(converter=str) \n",
    "    \n",
    "    @classmethod\n",
    "    def from_dataframe_row(cls, row: pd.Series):\n",
    "        new_obj: cls = cls(\n",
    "            sepal_length = row['sepal_length'],\n",
    "            sepal_width = row['sepal_width'],\n",
    "            petal_length = row['petal_length'],\n",
    "            petal_width = row['petal_width'],\n",
    "            species = row['species'],\n",
    "        )\n",
    "        return new_obj\n",
    "    \n",
    "    def sepal_area(self) -> float:\n",
    "        return self.sepal_length * self.sepal_width\n",
    "    \n",
    "    def petal_area(self) -> float:\n",
    "        return self.petal_length * self.petal_width\n",
    "    \n",
    "irises = list()\n",
    "for ind,row in iris_df.iterrows():\n",
    "    irises.append(IrisEntry.from"
   ]
  },
  {
   "cell_type": "code",
   "execution_count": null,
   "id": "ffd51f3a-4f35-489a-8f3e-5fcb4b9adf62",
   "metadata": {},
   "outputs": [],
   "source": []
  }
 ],
 "metadata": {
  "kernelspec": {
   "display_name": "Python 3 (ipykernel)",
   "language": "python",
   "name": "python3"
  },
  "language_info": {
   "codemirror_mode": {
    "name": "ipython",
    "version": 3
   },
   "file_extension": ".py",
   "mimetype": "text/x-python",
   "name": "python",
   "nbconvert_exporter": "python",
   "pygments_lexer": "ipython3",
   "version": "3.9.13"
  }
 },
 "nbformat": 4,
 "nbformat_minor": 5
}
