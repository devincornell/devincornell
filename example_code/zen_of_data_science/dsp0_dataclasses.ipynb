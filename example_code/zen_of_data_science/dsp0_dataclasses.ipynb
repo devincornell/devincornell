{
 "cells": [
  {
   "cell_type": "code",
   "execution_count": 4,
   "id": "9b0adc40-4f40-47d0-b155-a694a9c16b52",
   "metadata": {},
   "outputs": [],
   "source": [
    "import dataclasses\n",
    "\n",
    "@dataclasses.dataclass\n",
    "class MyType:\n",
    "    a: int\n",
    "    b: float\n",
    "    c: str = ''\n",
    "    \n",
    "obj = MyType(1, 1.0)\n",
    "obj = MyType(1, 2.0, c='hello')\n",
    "obj = MyType(\n",
    "    a = 1,\n",
    "    b = 2,\n",
    "    c = 'hello world',\n",
    ")"
   ]
  },
  {
   "cell_type": "code",
   "execution_count": 7,
   "id": "c9f3fee6-2124-44ee-a2df-640c922bbf96",
   "metadata": {},
   "outputs": [
    {
     "ename": "AttributeError",
     "evalue": "'MyType' object has no attribute 'c'",
     "output_type": "error",
     "traceback": [
      "\u001b[0;31m---------------------------------------------------------------------------\u001b[0m",
      "\u001b[0;31mAttributeError\u001b[0m                            Traceback (most recent call last)",
      "\u001b[0;32m/tmp/ipykernel_1965049/2599557904.py\u001b[0m in \u001b[0;36m<module>\u001b[0;34m\u001b[0m\n\u001b[1;32m      9\u001b[0m \u001b[0mobj\u001b[0m \u001b[0;34m=\u001b[0m \u001b[0mMyType\u001b[0m\u001b[0;34m(\u001b[0m\u001b[0;36m1\u001b[0m\u001b[0;34m,\u001b[0m \u001b[0;36m0.0\u001b[0m\u001b[0;34m)\u001b[0m\u001b[0;34m\u001b[0m\u001b[0;34m\u001b[0m\u001b[0m\n\u001b[1;32m     10\u001b[0m \u001b[0mobj\u001b[0m\u001b[0;34m.\u001b[0m\u001b[0mb\u001b[0m \u001b[0;34m=\u001b[0m \u001b[0;36m2\u001b[0m\u001b[0;34m\u001b[0m\u001b[0;34m\u001b[0m\u001b[0m\n\u001b[0;32m---> 11\u001b[0;31m \u001b[0mobj\u001b[0m\u001b[0;34m.\u001b[0m\u001b[0mc\u001b[0m \u001b[0;34m=\u001b[0m \u001b[0;36m5\u001b[0m\u001b[0;34m\u001b[0m\u001b[0;34m\u001b[0m\u001b[0m\n\u001b[0m",
      "\u001b[0;31mAttributeError\u001b[0m: 'MyType' object has no attribute 'c'"
     ]
    }
   ],
   "source": []
  },
  {
   "cell_type": "code",
   "execution_count": 10,
   "id": "315d8787-70a7-4ac0-ba97-76e957938c4d",
   "metadata": {},
   "outputs": [
    {
     "ename": "FrozenInstanceError",
     "evalue": "cannot assign to field 'b'",
     "output_type": "error",
     "traceback": [
      "\u001b[0;31m---------------------------------------------------------------------------\u001b[0m",
      "\u001b[0;31mFrozenInstanceError\u001b[0m                       Traceback (most recent call last)",
      "\u001b[0;32m/tmp/ipykernel_1965049/1619286307.py\u001b[0m in \u001b[0;36m<module>\u001b[0;34m\u001b[0m\n\u001b[1;32m      4\u001b[0m     \u001b[0mb\u001b[0m\u001b[0;34m:\u001b[0m \u001b[0mfloat\u001b[0m\u001b[0;34m\u001b[0m\u001b[0;34m\u001b[0m\u001b[0m\n\u001b[1;32m      5\u001b[0m \u001b[0mobj\u001b[0m \u001b[0;34m=\u001b[0m \u001b[0mMyType\u001b[0m\u001b[0;34m(\u001b[0m\u001b[0;36m1\u001b[0m\u001b[0;34m,\u001b[0m \u001b[0;36m0.0\u001b[0m\u001b[0;34m)\u001b[0m\u001b[0;34m\u001b[0m\u001b[0;34m\u001b[0m\u001b[0m\n\u001b[0;32m----> 6\u001b[0;31m \u001b[0mobj\u001b[0m\u001b[0;34m.\u001b[0m\u001b[0mb\u001b[0m \u001b[0;34m=\u001b[0m \u001b[0;36m2\u001b[0m\u001b[0;34m\u001b[0m\u001b[0;34m\u001b[0m\u001b[0m\n\u001b[0m",
      "\u001b[0;32m<string>\u001b[0m in \u001b[0;36m__setattr__\u001b[0;34m(self, name, value)\u001b[0m\n",
      "\u001b[0;31mFrozenInstanceError\u001b[0m: cannot assign to field 'b'"
     ]
    }
   ],
   "source": [
    "@dataclasses.dataclass(frozen=True)\n",
    "class MyType:\n",
    "    a: int\n",
    "    b: float\n",
    "obj = MyType(1, 0.0)\n",
    "obj.b = 2"
   ]
  },
  {
   "cell_type": "code",
   "execution_count": 11,
   "id": "3840fc12-91a3-483f-9d3c-f294fe6c9ab1",
   "metadata": {},
   "outputs": [
    {
     "ename": "FrozenInstanceError",
     "evalue": "cannot assign to field 'c'",
     "output_type": "error",
     "traceback": [
      "\u001b[0;31m---------------------------------------------------------------------------\u001b[0m",
      "\u001b[0;31mFrozenInstanceError\u001b[0m                       Traceback (most recent call last)",
      "\u001b[0;32m/tmp/ipykernel_1965049/2878892071.py\u001b[0m in \u001b[0;36m<module>\u001b[0;34m\u001b[0m\n\u001b[0;32m----> 1\u001b[0;31m \u001b[0mobj\u001b[0m\u001b[0;34m.\u001b[0m\u001b[0mc\u001b[0m \u001b[0;34m=\u001b[0m \u001b[0;36m5\u001b[0m\u001b[0;34m\u001b[0m\u001b[0;34m\u001b[0m\u001b[0m\n\u001b[0m",
      "\u001b[0;32m<string>\u001b[0m in \u001b[0;36m__setattr__\u001b[0;34m(self, name, value)\u001b[0m\n",
      "\u001b[0;31mFrozenInstanceError\u001b[0m: cannot assign to field 'c'"
     ]
    }
   ],
   "source": [
    "obj.c = 5"
   ]
  },
  {
   "cell_type": "code",
   "execution_count": 12,
   "id": "c20325cf-ee54-4daa-a32c-44177aa3531d",
   "metadata": {},
   "outputs": [
    {
     "ename": "AttributeError",
     "evalue": "'MyType' object has no attribute 'c'",
     "output_type": "error",
     "traceback": [
      "\u001b[0;31m---------------------------------------------------------------------------\u001b[0m",
      "\u001b[0;31mAttributeError\u001b[0m                            Traceback (most recent call last)",
      "\u001b[0;32m/tmp/ipykernel_1965049/1080256153.py\u001b[0m in \u001b[0;36m<module>\u001b[0;34m\u001b[0m\n\u001b[1;32m      7\u001b[0m \u001b[0mobj\u001b[0m \u001b[0;34m=\u001b[0m \u001b[0mMyType\u001b[0m\u001b[0;34m(\u001b[0m\u001b[0;36m1\u001b[0m\u001b[0;34m,\u001b[0m \u001b[0;36m0.0\u001b[0m\u001b[0;34m)\u001b[0m\u001b[0;34m\u001b[0m\u001b[0;34m\u001b[0m\u001b[0m\n\u001b[1;32m      8\u001b[0m \u001b[0mobj\u001b[0m\u001b[0;34m.\u001b[0m\u001b[0mb\u001b[0m \u001b[0;34m=\u001b[0m \u001b[0;36m2\u001b[0m\u001b[0;34m\u001b[0m\u001b[0;34m\u001b[0m\u001b[0m\n\u001b[0;32m----> 9\u001b[0;31m \u001b[0mobj\u001b[0m\u001b[0;34m.\u001b[0m\u001b[0mc\u001b[0m \u001b[0;34m=\u001b[0m \u001b[0;36m5\u001b[0m\u001b[0;34m\u001b[0m\u001b[0;34m\u001b[0m\u001b[0m\n\u001b[0m",
      "\u001b[0;31mAttributeError\u001b[0m: 'MyType' object has no attribute 'c'"
     ]
    }
   ],
   "source": [
    "@dataclasses.dataclass\n",
    "class MyType:\n",
    "    __slots__ = ['a', 'b']\n",
    "    a: int\n",
    "    b: float\n",
    "    \n",
    "obj = MyType(1, 0.0)\n",
    "obj.b = 2\n",
    "obj.c = 5"
   ]
  },
  {
   "cell_type": "code",
   "execution_count": 14,
   "id": "70eafc60-f78e-489a-a7d7-767b33e330b6",
   "metadata": {},
   "outputs": [
    {
     "name": "stdout",
     "output_type": "stream",
     "text": [
      "MyType(a=1.0, b=2.0)\n",
      "MyType(a=1.0, b=2.0)\n"
     ]
    }
   ],
   "source": [
    "@dataclasses.dataclass\n",
    "class MyType:\n",
    "    a: int = None\n",
    "    b: float = None\n",
    "\n",
    "    def __post_init__(self):\n",
    "        if self.b is None and self.a is not None:\n",
    "            self.b = self.a * 2\n",
    "        elif self.a is None and self.b is not None:\n",
    "            self.a = self.b / 2\n",
    "        elif self.a is None and self.b is None:\n",
    "            raise Exception('Neither a nor b were provided.')\n",
    "print(MyType(1.0))\n",
    "print(MyType(b=2.0))"
   ]
  },
  {
   "cell_type": "code",
   "execution_count": 15,
   "id": "79e370b4-a1cc-4090-b863-1d4a6e7396a6",
   "metadata": {},
   "outputs": [],
   "source": [
    "@dataclasses.dataclass\n",
    "class MyType:\n",
    "    a: int\n",
    "    b: float\n",
    "\n",
    "    @classmethod\n",
    "    def new(cls, a: int, b: float):\n",
    "        return cls(a=a, b=b)\n",
    "obj = MyType.new(1.0, 2.0)"
   ]
  },
  {
   "cell_type": "code",
   "execution_count": 16,
   "id": "30baf845-9770-42e9-b858-062183365b8f",
   "metadata": {},
   "outputs": [],
   "source": [
    "@dataclasses.dataclass\n",
    "class MyType:\n",
    "    a: int\n",
    "    b: float\n",
    "\n",
    "    @classmethod\n",
    "    def new_partial(cls, a: int = None, b: float = None):\n",
    "        if b is None and a is not None:\n",
    "            b = a * 2\n",
    "        elif a is None and b is not None:\n",
    "            a = b / 2\n",
    "        elif a is None and b is None:\n",
    "            raise Exception('Neither a nor b were provided.')\n",
    "        return cls(a=a, b=b)\n"
   ]
  },
  {
   "cell_type": "code",
   "execution_count": 19,
   "id": "b64c3c93-6a6d-4914-b5ce-067d88d5d805",
   "metadata": {},
   "outputs": [],
   "source": [
    "@dataclasses.dataclass\n",
    "class MyType:\n",
    "    a: int\n",
    "    b: float\n",
    "\n",
    "    @classmethod\n",
    "    def from_a_only(cls, a: int):\n",
    "        return cls(a=a, b=a*2)\n",
    "\n",
    "    @classmethod\n",
    "    def from_b_only(cls, b: float):\n",
    "        return cls(a=b/2, b=b)\n",
    "    \n",
    "obj = MyType.from_a_only(1)\n",
    "obj = MyType.from_b_only(2)"
   ]
  },
  {
   "cell_type": "code",
   "execution_count": 36,
   "id": "c9c59d95-b997-467e-b301-5a1f749f8127",
   "metadata": {},
   "outputs": [
    {
     "name": "stdout",
     "output_type": "stream",
     "text": [
      "MyTimeKeeper(ts=datetime.datetime(2023, 8, 26, 15, 35, 57, 245810, tzinfo=datetime.timezone.utc), other_data={})\n",
      "MyTimeKeeper(ts=datetime.datetime(2023, 8, 26, 15, 35, 57, 246046, tzinfo=datetime.timezone.utc), other_data={})\n",
      "MyTimeKeeper(ts=datetime.datetime(2023, 8, 26, 11, 35, 57, 246210), other_data={})\n"
     ]
    }
   ],
   "source": [
    "import datetime\n",
    "\n",
    "@dataclasses.dataclass\n",
    "class MyTimeKeeper:\n",
    "    ts: datetime.datetime\n",
    "    other_data: dict\n",
    "\n",
    "    @classmethod\n",
    "    def now(cls, tz: datetime.timezone, **other_data):\n",
    "        return cls(datetime.datetime.now(tz=tz), other_data)\n",
    "    \n",
    "    @classmethod\n",
    "    def now_utc(cls, **other_data):\n",
    "        return cls.now(datetime.timezone.utc, **other_data)\n",
    "    \n",
    "    @classmethod\n",
    "    def now_naive(cls, **other_data):\n",
    "        return cls.now(None, **other_data)\n",
    "\n",
    "print(MyTimeKeeper.now(datetime.timezone.utc))\n",
    "print(MyTimeKeeper.now_utc())\n",
    "print(MyTimeKeeper.now_naive())"
   ]
  },
  {
   "cell_type": "code",
   "execution_count": 38,
   "id": "b45f17d6-a1e3-464f-bb31-61832e0408f7",
   "metadata": {},
   "outputs": [
    {
     "name": "stdout",
     "output_type": "stream",
     "text": [
      "MyTimeKeeperPostInit(tz=datetime.timezone.utc, other_data={}, ts=datetime.datetime(2023, 8, 26, 15, 40, 57, 867052, tzinfo=datetime.timezone.utc))\n"
     ]
    }
   ],
   "source": [
    "@dataclasses.dataclass\n",
    "class MyTimeKeeperPostInit:\n",
    "    tz: datetime.timezone\n",
    "    other_data: dict\n",
    "    ts: datetime.datetime = None\n",
    "    \n",
    "    def __post_init__(self):\n",
    "        self.ts = datetime.datetime.now(self.tz)\n",
    "        \n",
    "print(MyTimeKeeperPostInit(datetime.timezone.utc, other_data=dict()))"
   ]
  },
  {
   "cell_type": "code",
   "execution_count": 29,
   "id": "ea8d378f-5ebb-4373-b6ed-c7e420f7a07a",
   "metadata": {},
   "outputs": [
    {
     "data": {
      "text/plain": [
       "datetime.timezone"
      ]
     },
     "execution_count": 29,
     "metadata": {},
     "output_type": "execute_result"
    }
   ],
   "source": [
    "type(datetime.timezone.utc)"
   ]
  },
  {
   "cell_type": "code",
   "execution_count": 24,
   "id": "8ad4bfcd-5bc8-48f2-9dad-1051b36c28d0",
   "metadata": {},
   "outputs": [
    {
     "data": {
      "text/plain": [
       "2.0"
      ]
     },
     "execution_count": 24,
     "metadata": {},
     "output_type": "execute_result"
    }
   ],
   "source": [
    "@dataclasses.dataclass\n",
    "class MyType:\n",
    "    a: int\n",
    "    b: float\n",
    "\n",
    "    @property\n",
    "    def math(self):\n",
    "        return MyTypeMath(self)\n",
    "\n",
    "@dataclasses.dataclass\n",
    "class MyTypeMath:\n",
    "    mt: MyType\n",
    "\n",
    "    def product(self):\n",
    "        return self.mt.a * self.mt.b\n",
    "\n",
    "    def sum(self):\n",
    "        return self.mt.a + self.mt.b\n",
    "    \n",
    "obj = MyType(1.0, 1.0)\n",
    "obj.math.product()\n",
    "obj.math.sum()"
   ]
  },
  {
   "cell_type": "code",
   "execution_count": null,
   "id": "9f0b772c-2c80-4b79-80ac-f5516f0108ca",
   "metadata": {},
   "outputs": [],
   "source": [
    "@dataclasses.dataclass(frozen=True)\n",
    "class MyType:\n",
    "    a: int\n",
    "    b: float\n",
    "    \n",
    "    @classmethod\n",
    "    def new(cls, a: int, b: float, double_values: bool = False):\n",
    "        if double_values:\n",
    "            a, b = a * 2, b * 2\n",
    "        return cls(a=a, b=b)\n",
    "    \n",
    "@dataclasses.dataclass(frozen=True)\n",
    "class MySecondType:\n",
    "    prod: float\n",
    "    summation: float\n",
    "    \n",
    "    @classmethod\n",
    "    \n",
    "    "
   ]
  },
  {
   "cell_type": "code",
   "execution_count": 43,
   "id": "298164eb-4006-4214-be24-47113ffd1cae",
   "metadata": {},
   "outputs": [
    {
     "name": "stdout",
     "output_type": "stream",
     "text": [
      "MySummaryType(added=5, product=4)\n"
     ]
    }
   ],
   "source": [
    "@dataclasses.dataclass\n",
    "class MyType:\n",
    "    a: int\n",
    "    b: float\n",
    "    \n",
    "    def get_summary(self):\n",
    "        return MySummaryType.from_mytype(self)\n",
    "\n",
    "@dataclasses.dataclass\n",
    "class MySummaryType:\n",
    "    added: float\n",
    "    product: float\n",
    "    \n",
    "    @classmethod\n",
    "    def from_mytype(cls, mt: MyType):\n",
    "        return cls(mt.a + mt.b, mt.a * mt.b)\n",
    "\n",
    "print(MyType(1, 4).get_summary())"
   ]
  },
  {
   "cell_type": "code",
   "execution_count": null,
   "id": "d61800a8-5b28-4bb3-9edc-66d9413bb7da",
   "metadata": {},
   "outputs": [],
   "source": []
  }
 ],
 "metadata": {
  "kernelspec": {
   "display_name": "Python 3 (ipykernel)",
   "language": "python",
   "name": "python3"
  },
  "language_info": {
   "codemirror_mode": {
    "name": "ipython",
    "version": 3
   },
   "file_extension": ".py",
   "mimetype": "text/x-python",
   "name": "python",
   "nbconvert_exporter": "python",
   "pygments_lexer": "ipython3",
   "version": "3.9.13"
  }
 },
 "nbformat": 4,
 "nbformat_minor": 5
}
